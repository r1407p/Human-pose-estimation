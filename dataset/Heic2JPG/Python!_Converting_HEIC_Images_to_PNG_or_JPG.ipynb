{
  "cells": [
    {
      "cell_type": "markdown",
      "metadata": {
        "colab_type": "text",
        "id": "view-in-github"
      },
      "source": [
        "<a href=\"https://colab.research.google.com/github/ad17171717/YouTube-Tutorials/blob/main/Python/HEIC%20to%20PNG%20and%20JPG%20Conversion/Python!_Converting_HEIC_Images_to_PNG_or_JPG.ipynb\" target=\"_parent\"><img src=\"https://colab.research.google.com/assets/colab-badge.svg\" alt=\"Open In Colab\"/></a>"
      ]
    },
    {
      "cell_type": "code",
      "execution_count": 13,
      "metadata": {
        "id": "ZzO4C1P-dOqS"
      },
      "outputs": [],
      "source": [
        "from PIL import Image\n",
        "from pillow_heif import register_heif_opener\n",
        "import os"
      ]
    },
    {
      "cell_type": "markdown",
      "metadata": {
        "id": "TfkqpMPWlAMZ"
      },
      "source": [
        "# **HEIC Files**\n",
        "\n",
        "**HEIC (High Efficiency Image Container) is an updated image format  variant of the High Efficiency Image Format (HEIF). Apple product such as iPhones store images as HEIC files. Opearting systems such as Windows cannot open HEIC files without an addtional extension.**"
      ]
    },
    {
      "cell_type": "markdown",
      "metadata": {
        "id": "Ma6Whv3KmG3h"
      },
      "source": [
        "<sup>Source: [HEIC files](https://www.adobe.com/creativecloud/file-types/image/raster/heic-file.html#heic) from Adobe</sup>"
      ]
    },
    {
      "cell_type": "code",
      "execution_count": 14,
      "metadata": {
        "colab": {
          "base_uri": "https://localhost:8080/"
        },
        "id": "-c7SIhwyhxm6",
        "outputId": "8f635a00-2f78-472a-fc1d-b128bbb47371"
      },
      "outputs": [
        {
          "name": "stdout",
          "output_type": "stream",
          "text": [
            "Help on function register_heif_opener in module pillow_heif.as_plugin:\n",
            "\n",
            "register_heif_opener(**kwargs) -> None\n",
            "    Registers a Pillow plugin for HEIF format.\n",
            "    \n",
            "    :param kwargs: dictionary with values to set in options. See: :ref:`options`.\n",
            "\n"
          ]
        }
      ],
      "source": [
        "help(register_heif_opener)"
      ]
    },
    {
      "cell_type": "code",
      "execution_count": 15,
      "metadata": {
        "id": "0mmft659dgQz"
      },
      "outputs": [],
      "source": [
        "register_heif_opener()"
      ]
    },
    {
      "cell_type": "code",
      "execution_count": 16,
      "metadata": {
        "id": "alD0aq1edSS6"
      },
      "outputs": [],
      "source": [
        "heic_files = [photo for photo in os.listdir() if '.HEIC' in photo]"
      ]
    },
    {
      "cell_type": "code",
      "execution_count": 17,
      "metadata": {
        "colab": {
          "base_uri": "https://localhost:8080/"
        },
        "id": "hwPsaF8OoAJZ",
        "outputId": "8a1f8556-08c8-4777-8570-81cd9c028927"
      },
      "outputs": [
        {
          "data": {
            "text/plain": [
              "['IMG_7231.HEIC',\n",
              " 'IMG_7232.HEIC',\n",
              " 'IMG_7234.HEIC',\n",
              " 'IMG_7235.HEIC',\n",
              " 'IMG_7236.HEIC',\n",
              " 'IMG_7237.HEIC',\n",
              " 'IMG_7238.HEIC',\n",
              " 'IMG_7239.HEIC',\n",
              " 'IMG_7240.HEIC',\n",
              " 'IMG_7241.HEIC',\n",
              " 'IMG_7242.HEIC',\n",
              " 'IMG_7243.HEIC',\n",
              " 'IMG_7244.HEIC',\n",
              " 'IMG_7245.HEIC',\n",
              " 'IMG_7246.HEIC',\n",
              " 'IMG_7247.HEIC',\n",
              " 'IMG_7248.HEIC',\n",
              " 'IMG_7249.HEIC',\n",
              " 'IMG_7251.HEIC',\n",
              " 'IMG_7252.HEIC',\n",
              " 'IMG_7253.HEIC',\n",
              " 'IMG_7254.HEIC',\n",
              " 'IMG_7255.HEIC',\n",
              " 'IMG_7256.HEIC',\n",
              " 'IMG_7257.HEIC',\n",
              " 'IMG_7258.HEIC',\n",
              " 'IMG_7259.HEIC',\n",
              " 'IMG_7260.HEIC',\n",
              " 'IMG_7261.HEIC',\n",
              " 'IMG_7262.HEIC',\n",
              " 'IMG_7263.HEIC',\n",
              " 'IMG_7264.HEIC']"
            ]
          },
          "execution_count": 17,
          "metadata": {},
          "output_type": "execute_result"
        }
      ],
      "source": [
        "heic_files"
      ]
    },
    {
      "cell_type": "code",
      "execution_count": 18,
      "metadata": {
        "id": "ZFnKw1HDoKfo"
      },
      "outputs": [
        {
          "name": "stdout",
          "output_type": "stream",
          "text": [
            "done  1\n",
            "done  2\n",
            "done  3\n",
            "done  4\n",
            "done  5\n",
            "done  6\n",
            "done  7\n",
            "done  8\n",
            "done  9\n",
            "done  10\n",
            "done  11\n",
            "done  12\n",
            "done  13\n",
            "done  14\n",
            "done  15\n",
            "done  16\n",
            "done  17\n",
            "done  18\n",
            "done  19\n",
            "done  20\n",
            "done  21\n",
            "done  22\n",
            "done  23\n",
            "done  24\n",
            "done  25\n",
            "done  26\n",
            "done  27\n",
            "done  28\n",
            "done  29\n",
            "done  30\n",
            "done  31\n",
            "done  32\n"
          ]
        }
      ],
      "source": [
        "cnt = 0\n",
        "for photo in heic_files:\n",
        "  temp_img = Image.open(photo)\n",
        "  png_photo = photo.replace('.HEIC','.jpg')\n",
        "  temp_img.save(png_photo)\n",
        "  cnt += 1\n",
        "  print(\"done \", cnt)"
      ]
    },
    {
      "cell_type": "markdown",
      "metadata": {
        "id": "oyu7Jm9eluqK"
      },
      "source": [
        "# **References and Additional Learning**"
      ]
    },
    {
      "cell_type": "markdown",
      "metadata": {
        "id": "gO9uKxv0lxm7"
      },
      "source": [
        "## **Website**\n",
        "\n",
        "- **[HEIC files](https://www.adobe.com/creativecloud/file-types/image/raster/heic-file.html#heic) from Adobe**"
      ]
    },
    {
      "cell_type": "markdown",
      "metadata": {
        "id": "kmyebeyUls6D"
      },
      "source": [
        "# **Connect**\n",
        "- **Feel free to connect with Adrian on [YouTube](https://www.youtube.com/channel/UCPuDxI3xb_ryUUMfkm0jsRA), [LinkedIn](https://www.linkedin.com/in/adrian-dolinay-frm-96a289106/), [Twitter](https://twitter.com/DolinayG), [GitHub](https://github.com/ad17171717), [Medium](https://adriandolinay.medium.com/) and [Odysee](https://odysee.com/@adriandolinay:0). Happy coding!**"
      ]
    }
  ],
  "metadata": {
    "colab": {
      "include_colab_link": true,
      "provenance": []
    },
    "kernelspec": {
      "display_name": "Python 3",
      "name": "python3"
    },
    "language_info": {
      "codemirror_mode": {
        "name": "ipython",
        "version": 3
      },
      "file_extension": ".py",
      "mimetype": "text/x-python",
      "name": "python",
      "nbconvert_exporter": "python",
      "pygments_lexer": "ipython3",
      "version": "3.10.11"
    }
  },
  "nbformat": 4,
  "nbformat_minor": 0
}
