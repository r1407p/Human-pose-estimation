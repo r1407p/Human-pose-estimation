{
 "cells": [
  {
   "cell_type": "code",
   "execution_count": 25,
   "metadata": {},
   "outputs": [],
   "source": [
    "import os\n",
    "import csv\n",
    "import cv2\n",
    "import tensorflow as tf\n",
    "import numpy as np"
   ]
  },
  {
   "cell_type": "code",
   "execution_count": 3,
   "metadata": {},
   "outputs": [
    {
     "name": "stdout",
     "output_type": "stream",
     "text": [
      "c:\\Human-pose-estimation\\Human-pose-estimation\\code\\pic_data\n"
     ]
    }
   ],
   "source": [
    "print(os.getcwd())"
   ]
  },
  {
   "cell_type": "code",
   "execution_count": 29,
   "metadata": {},
   "outputs": [
    {
     "name": "stdout",
     "output_type": "stream",
     "text": [
      "<movenet.Movenet object at 0x0000012D0AD2A0B0>\n"
     ]
    }
   ],
   "source": [
    "from movenet import Movenet\n",
    "movenet = Movenet('movenet_thunder')\n",
    "print(movenet)\n",
    "\n",
    "def detect(input_tensor, inference_count=3):\n",
    "  \"\"\"Runs detection on an input image.\n",
    " \n",
    "  Args:\n",
    "    input_tensor: A [height, width, 3] Tensor of type tf.float32.\n",
    "      Note that height and width can be anything since the image will be\n",
    "      immediately resized according to the needs of the model within this\n",
    "      function.\n",
    "    inference_count: Number of times the model should run repeatly on the\n",
    "      same input image to improve detection accuracy.\n",
    " \n",
    "  Returns:\n",
    "    A Person entity detected by the MoveNet.SinglePose.\n",
    "  \"\"\"\n",
    "  image_height, image_width, channel = input_tensor.shape\n",
    " \n",
    "  # Detect pose using the full input image\n",
    "  movenet.detect(input_tensor.numpy(), reset_crop_region=True)\n",
    " \n",
    "  # Repeatedly using previous detection result to identify the region of\n",
    "  # interest and only croping that region to improve detection accuracy\n",
    "  for _ in range(inference_count - 1):\n",
    "    person = movenet.detect(input_tensor.numpy(), \n",
    "                            reset_crop_region=False)\n",
    "\n",
    "  return person"
   ]
  },
  {
   "cell_type": "code",
   "execution_count": 30,
   "metadata": {},
   "outputs": [
    {
     "name": "stdout",
     "output_type": "stream",
     "text": [
      "c:\\Human-pose-estimation\\Human-pose-estimation\\code\\pic_data\\test_data\\cross_leg\n",
      "c:\\Human-pose-estimation\\Human-pose-estimation\\code\\pic_data\\test_data\\cross_one\n",
      "c:\\Human-pose-estimation\\Human-pose-estimation\\code\\pic_data\\test_data\\hunch\n",
      "c:\\Human-pose-estimation\\Human-pose-estimation\\code\\pic_data\\test_data\\lie\n",
      "c:\\Human-pose-estimation\\Human-pose-estimation\\code\\pic_data\\test_data\\straight\n"
     ]
    }
   ],
   "source": [
    "data_path = os.getcwd()+r'\\test_data'\n",
    "poses = os.listdir(data_path)\n",
    "output_folder = 'test_data2.csv'\n",
    "with open(output_folder, 'w', newline='') as file:\n",
    "    writer = csv.writer(file)\n",
    "    writer.writerow(['file_name','nose_x','nose_y','nose_score','left_eye_x','left_eye_y',\n",
    "                     'left_eye_score','right_eye_x','right_eye_y','right_eye_score',\n",
    "                     'left_ear_x','left_ear_y','left_ear_score','right_ear_x','right_ear_y'\n",
    "                     ,'right_ear_score','left_shoulder_x','left_shoulder_y','left_shoulder_score'\n",
    "                     ,'right_shoulder_x','right_shoulder_y','right_shoulder_score','left_elbow_x'\n",
    "                     ,'left_elbow_y','left_elbow_score','right_elbow_x','right_elbow_y',\n",
    "                     'right_elbow_score','left_wrist_x','left_wrist_y','left_wrist_score',\n",
    "                     'right_wrist_x','right_wrist_y','right_wrist_score','left_hip_x','left_hip_y',\n",
    "                     'left_hip_score','right_hip_x','right_hip_y','right_hip_score','left_knee_x',\n",
    "                     'left_knee_y','left_knee_score','right_knee_x','right_knee_y','right_knee_score', \n",
    "                     'left_ankle_x','left_ankle_y','left_ankle_score','right_ankle_x','right_ankle_y',\n",
    "                     'right_ankle_score','class_no','class_name'])\n",
    "\n",
    "    pose_index = 0\n",
    "    for pose in poses:\n",
    "        input_folder = os.path.join(data_path, pose)\n",
    "        imageslist = os.listdir(input_folder)\n",
    "        for image_path in imageslist:\n",
    "            \n",
    "            image = tf.io.read_file(os.path.join(input_folder, image_path))\n",
    "            image = tf.io.decode_jpeg(image)\n",
    "            person = detect(image)\n",
    "            pose_landmarks = np.array([[keypoint.coordinate.x, keypoint.coordinate.y, keypoint.score]\n",
    "                for keypoint in person.keypoints])\n",
    "            coordinates = pose_landmarks.flatten().astype(str).tolist()\n",
    "            writer.writerow([image_path] + coordinates+ [pose_index] + [pose])\n",
    "        pose_index+=1"
   ]
  },
  {
   "cell_type": "code",
   "execution_count": null,
   "metadata": {},
   "outputs": [],
   "source": [
    "data_path = os.getcwd()+r'\\train_data'\n",
    "poses = os.listdir(data_path)\n",
    "output_folder = 'train_data2.csv'\n",
    "with open(output_folder, 'w', newline='') as file:\n",
    "    writer = csv.writer(file)\n",
    "    writer.writerow(['file_name','nose_x','nose_y','nose_score','left_eye_x','left_eye_y',\n",
    "                     'left_eye_score','right_eye_x','right_eye_y','right_eye_score',\n",
    "                     'left_ear_x','left_ear_y','left_ear_score','right_ear_x','right_ear_y'\n",
    "                     ,'right_ear_score','left_shoulder_x','left_shoulder_y','left_shoulder_score'\n",
    "                     ,'right_shoulder_x','right_shoulder_y','right_shoulder_score','left_elbow_x'\n",
    "                     ,'left_elbow_y','left_elbow_score','right_elbow_x','right_elbow_y',\n",
    "                     'right_elbow_score','left_wrist_x','left_wrist_y','left_wrist_score',\n",
    "                     'right_wrist_x','right_wrist_y','right_wrist_score','left_hip_x','left_hip_y',\n",
    "                     'left_hip_score','right_hip_x','right_hip_y','right_hip_score','left_knee_x',\n",
    "                     'left_knee_y','left_knee_score','right_knee_x','right_knee_y','right_knee_score', \n",
    "                     'left_ankle_x','left_ankle_y','left_ankle_score','right_ankle_x','right_ankle_y',\n",
    "                     'right_ankle_score','class_no','class_name'])\n",
    "\n",
    "    pose_index = 0\n",
    "    for pose in poses:\n",
    "        input_folder = os.path.join(data_path, pose)\n",
    "        print(input_folder)\n",
    "        imageslist = os.listdir(input_folder)\n",
    "        for image_path in imageslist:\n",
    "            \n",
    "            image = tf.io.read_file(os.path.join(input_folder, image_path))\n",
    "            image = tf.io.decode_jpeg(image)\n",
    "            person = detect(image)\n",
    "            pose_landmarks = np.array([[keypoint.coordinate.x, keypoint.coordinate.y, keypoint.score]\n",
    "                for keypoint in person.keypoints])\n",
    "            coordinates = pose_landmarks.flatten().astype(str).tolist()\n",
    "            writer.writerow([image_path] + coordinates+ [pose_index] + [pose])\n",
    "        pose_index+=1"
   ]
  }
 ],
 "metadata": {
  "kernelspec": {
   "display_name": "AI",
   "language": "python",
   "name": "python3"
  },
  "language_info": {
   "codemirror_mode": {
    "name": "ipython",
    "version": 3
   },
   "file_extension": ".py",
   "mimetype": "text/x-python",
   "name": "python",
   "nbconvert_exporter": "python",
   "pygments_lexer": "ipython3",
   "version": "3.10.11"
  },
  "orig_nbformat": 4
 },
 "nbformat": 4,
 "nbformat_minor": 2
}
