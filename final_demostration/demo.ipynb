{
 "cells": [
  {
   "cell_type": "code",
   "execution_count": 5,
   "metadata": {},
   "outputs": [],
   "source": [
    "import os\n",
    "import csv\n",
    "import cv2\n",
    "import tensorflow as tf\n",
    "import numpy as np"
   ]
  },
  {
   "cell_type": "code",
   "execution_count": 2,
   "metadata": {},
   "outputs": [
    {
     "name": "stdout",
     "output_type": "stream",
     "text": [
      "<movenet.Movenet object at 0x0000018BB61F9ED0>\n"
     ]
    }
   ],
   "source": [
    "import utils\n",
    "from data import BodyPart\n",
    "from movenet import Movenet\n",
    "movenet = Movenet('movenet_thunder')\n",
    "print(movenet)\n",
    "def detect(input_tensor, inference_count=3):\n",
    "  \"\"\"Runs detection on an input image.\n",
    " \n",
    "  Args:\n",
    "    input_tensor: A [height, width, 3] Tensor of type tf.float32.\n",
    "      Note that height and width can be anything since the image will be\n",
    "      immediately resized according to the needs of the model within this\n",
    "      function.\n",
    "    inference_count: Number of times the model should run repeatly on the\n",
    "      same input image to improve detection accuracy.\n",
    " \n",
    "  Returns:\n",
    "    A Person entity detected by the MoveNet.SinglePose.\n",
    "  \"\"\"\n",
    "  image_height, image_width, channel = input_tensor.shape\n",
    " \n",
    "  # Detect pose using the full input image\n",
    "  movenet.detect(input_tensor.numpy(), reset_crop_region=True)\n",
    " \n",
    "  # Repeatedly using previous detection result to identify the region of\n",
    "  # interest and only croping that region to improve detection accuracy\n",
    "  for _ in range(inference_count - 1):\n",
    "    person = movenet.detect(input_tensor.numpy(), \n",
    "                            reset_crop_region=False)\n",
    "    # person.\n",
    "  return person"
   ]
  },
  {
   "cell_type": "code",
   "execution_count": 62,
   "metadata": {},
   "outputs": [
    {
     "name": "stdout",
     "output_type": "stream",
     "text": [
      "c:\\Human-pose-estimation\\Human-pose-estimation\\final_demostration\\demo.jpg\n"
     ]
    }
   ],
   "source": [
    "data_path = os.getcwd()+r'\\demo.jpg'\n",
    "print(data_path)\n",
    "\n",
    "image = tf.io.read_file(data_path)\n",
    "image = tf.io.decode_jpeg(image)\n",
    "person = detect(image)\n",
    "\n",
    "pose_landmarks = np.array([[keypoint.coordinate.x, keypoint.coordinate.y, keypoint.score]\n",
    "    for keypoint in person.keypoints])\n",
    "coordinates = pose_landmarks.flatten().astype(float).tolist()"
   ]
  },
  {
   "cell_type": "code",
   "execution_count": 63,
   "metadata": {},
   "outputs": [],
   "source": [
    "import pandas as pd\n",
    "import keras\n",
    "import tensorflow as tf\n",
    "import models"
   ]
  },
  {
   "cell_type": "code",
   "execution_count": 64,
   "metadata": {},
   "outputs": [],
   "source": [
    "\n",
    "basic_model = keras.models.load_model('basic.best.hdf5')\n",
    "CNN_model = keras.models.load_model('CNN.best.hdf5')\n",
    "DNN_model = keras.models.load_model('DNN.best.hdf5')\n",
    "model = basic_model\n"
   ]
  },
  {
   "cell_type": "code",
   "execution_count": 66,
   "metadata": {},
   "outputs": [
    {
     "name": "stdout",
     "output_type": "stream",
     "text": [
      "<class 'tensorflow.python.framework.ops.EagerTensor'>\n",
      "WARNING:tensorflow:Model was constructed with shape (None, 51) for input KerasTensor(type_spec=TensorSpec(shape=(None, 51), dtype=tf.float32, name='input_2'), name='input_2', description=\"created by layer 'input_2'\"), but it was called on an input with incompatible shape (None,).\n"
     ]
    },
    {
     "ename": "ValueError",
     "evalue": "in user code:\n\n    File \"c:\\Users\\user\\anaconda3\\envs\\AI\\lib\\site-packages\\keras\\engine\\training.py\", line 2041, in predict_function  *\n        return step_function(self, iterator)\n    File \"c:\\Users\\user\\anaconda3\\envs\\AI\\lib\\site-packages\\keras\\engine\\training.py\", line 2027, in step_function  **\n        outputs = model.distribute_strategy.run(run_step, args=(data,))\n    File \"c:\\Users\\user\\anaconda3\\envs\\AI\\lib\\site-packages\\keras\\engine\\training.py\", line 2015, in run_step  **\n        outputs = model.predict_step(data)\n    File \"c:\\Users\\user\\anaconda3\\envs\\AI\\lib\\site-packages\\keras\\engine\\training.py\", line 1983, in predict_step\n        return self(x, training=False)\n    File \"c:\\Users\\user\\anaconda3\\envs\\AI\\lib\\site-packages\\keras\\utils\\traceback_utils.py\", line 70, in error_handler\n        raise e.with_traceback(filtered_tb) from None\n    File \"c:\\Users\\user\\anaconda3\\envs\\AI\\lib\\site-packages\\keras\\layers\\reshaping\\reshape.py\", line 118, in _fix_unknown_dimension\n        raise ValueError(msg)\n\n    ValueError: Exception encountered when calling layer \"reshape_1\" \"                 f\"(type Reshape).\n    \n    total size of new array must be unchanged, input_shape = [], output_shape = [17, 3]\n    \n    Call arguments received by layer \"reshape_1\" \"                 f\"(type Reshape):\n      • inputs=tf.Tensor(shape=(None,), dtype=float32)\n",
     "output_type": "error",
     "traceback": [
      "\u001b[1;31m---------------------------------------------------------------------------\u001b[0m",
      "\u001b[1;31mValueError\u001b[0m                                Traceback (most recent call last)",
      "Cell \u001b[1;32mIn[66], line 4\u001b[0m\n\u001b[0;32m      2\u001b[0m \u001b[39mprint\u001b[39m(\u001b[39mtype\u001b[39m(x_test))\n\u001b[0;32m      3\u001b[0m x \u001b[39m=\u001b[39m [x_test]\n\u001b[1;32m----> 4\u001b[0m y_pred \u001b[39m=\u001b[39m model\u001b[39m.\u001b[39;49mpredict(x)\n",
      "File \u001b[1;32mc:\\Users\\user\\anaconda3\\envs\\AI\\lib\\site-packages\\keras\\utils\\traceback_utils.py:70\u001b[0m, in \u001b[0;36mfilter_traceback.<locals>.error_handler\u001b[1;34m(*args, **kwargs)\u001b[0m\n\u001b[0;32m     67\u001b[0m     filtered_tb \u001b[39m=\u001b[39m _process_traceback_frames(e\u001b[39m.\u001b[39m__traceback__)\n\u001b[0;32m     68\u001b[0m     \u001b[39m# To get the full stack trace, call:\u001b[39;00m\n\u001b[0;32m     69\u001b[0m     \u001b[39m# `tf.debugging.disable_traceback_filtering()`\u001b[39;00m\n\u001b[1;32m---> 70\u001b[0m     \u001b[39mraise\u001b[39;00m e\u001b[39m.\u001b[39mwith_traceback(filtered_tb) \u001b[39mfrom\u001b[39;00m \u001b[39mNone\u001b[39;00m\n\u001b[0;32m     71\u001b[0m \u001b[39mfinally\u001b[39;00m:\n\u001b[0;32m     72\u001b[0m     \u001b[39mdel\u001b[39;00m filtered_tb\n",
      "File \u001b[1;32m~\\AppData\\Local\\Temp\\__autograph_generated_file64514_9y.py:15\u001b[0m, in \u001b[0;36mouter_factory.<locals>.inner_factory.<locals>.tf__predict_function\u001b[1;34m(iterator)\u001b[0m\n\u001b[0;32m     13\u001b[0m \u001b[39mtry\u001b[39;00m:\n\u001b[0;32m     14\u001b[0m     do_return \u001b[39m=\u001b[39m \u001b[39mTrue\u001b[39;00m\n\u001b[1;32m---> 15\u001b[0m     retval_ \u001b[39m=\u001b[39m ag__\u001b[39m.\u001b[39mconverted_call(ag__\u001b[39m.\u001b[39mld(step_function), (ag__\u001b[39m.\u001b[39mld(\u001b[39mself\u001b[39m), ag__\u001b[39m.\u001b[39mld(iterator)), \u001b[39mNone\u001b[39;00m, fscope)\n\u001b[0;32m     16\u001b[0m \u001b[39mexcept\u001b[39;00m:\n\u001b[0;32m     17\u001b[0m     do_return \u001b[39m=\u001b[39m \u001b[39mFalse\u001b[39;00m\n",
      "\u001b[1;31mValueError\u001b[0m: in user code:\n\n    File \"c:\\Users\\user\\anaconda3\\envs\\AI\\lib\\site-packages\\keras\\engine\\training.py\", line 2041, in predict_function  *\n        return step_function(self, iterator)\n    File \"c:\\Users\\user\\anaconda3\\envs\\AI\\lib\\site-packages\\keras\\engine\\training.py\", line 2027, in step_function  **\n        outputs = model.distribute_strategy.run(run_step, args=(data,))\n    File \"c:\\Users\\user\\anaconda3\\envs\\AI\\lib\\site-packages\\keras\\engine\\training.py\", line 2015, in run_step  **\n        outputs = model.predict_step(data)\n    File \"c:\\Users\\user\\anaconda3\\envs\\AI\\lib\\site-packages\\keras\\engine\\training.py\", line 1983, in predict_step\n        return self(x, training=False)\n    File \"c:\\Users\\user\\anaconda3\\envs\\AI\\lib\\site-packages\\keras\\utils\\traceback_utils.py\", line 70, in error_handler\n        raise e.with_traceback(filtered_tb) from None\n    File \"c:\\Users\\user\\anaconda3\\envs\\AI\\lib\\site-packages\\keras\\layers\\reshaping\\reshape.py\", line 118, in _fix_unknown_dimension\n        raise ValueError(msg)\n\n    ValueError: Exception encountered when calling layer \"reshape_1\" \"                 f\"(type Reshape).\n    \n    total size of new array must be unchanged, input_shape = [], output_shape = [17, 3]\n    \n    Call arguments received by layer \"reshape_1\" \"                 f\"(type Reshape):\n      • inputs=tf.Tensor(shape=(None,), dtype=float32)\n"
     ]
    }
   ],
   "source": [
    "\n",
    "x_test = tf.convert_to_tensor(coordinates)\n",
    "print(type(x_test))\n",
    "x = [x_test]\n",
    "y_pred = model.predict(x)"
   ]
  },
  {
   "cell_type": "code",
   "execution_count": null,
   "metadata": {},
   "outputs": [],
   "source": []
  }
 ],
 "metadata": {
  "kernelspec": {
   "display_name": "LA_lab",
   "language": "python",
   "name": "python3"
  },
  "language_info": {
   "codemirror_mode": {
    "name": "ipython",
    "version": 3
   },
   "file_extension": ".py",
   "mimetype": "text/x-python",
   "name": "python",
   "nbconvert_exporter": "python",
   "pygments_lexer": "ipython3",
   "version": "3.9.16"
  },
  "orig_nbformat": 4
 },
 "nbformat": 4,
 "nbformat_minor": 2
}
