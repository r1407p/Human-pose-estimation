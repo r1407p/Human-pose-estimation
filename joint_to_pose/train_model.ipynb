{
 "cells": [
  {
   "cell_type": "code",
   "execution_count": 1,
   "metadata": {},
   "outputs": [],
   "source": [
    "import pandas as pd\n",
    "import keras\n",
    "import os\n",
    "import tensorflow as tf"
   ]
  },
  {
   "attachments": {},
   "cell_type": "markdown",
   "metadata": {},
   "source": [
    "## load the data from csv we get before in the stage preprocess the data\n",
    "\n",
    "1. read csv \n",
    "2. split out the target and the class name\n",
    "3. drop the data we don't need in training model\n",
    "\n",
    "### return data, target, class name , original data from csv"
   ]
  },
  {
   "cell_type": "code",
   "execution_count": 16,
   "metadata": {},
   "outputs": [],
   "source": [
    "def load_data_from_csv(csv_path: str):\n",
    "    ori_dataframe = pd.read_csv(csv_path)\n",
    "    dataframe = ori_dataframe.copy()\n",
    "    \n",
    "    \n",
    "    class_no = dataframe[\"class_no\"] # get the labeled data of each posture data (1 dimension of int)\n",
    "    class_name = dataframe[\"class_name\"]# get the labeled data of each posture data (1 dimension of string)\n",
    "    dataframe.drop(columns=['file_name',\"class_no\",\"class_name\"], inplace=True) # drop the useles data for training\n",
    "    \n",
    "    \n",
    "    x = dataframe\n",
    "    y = keras.utils.to_categorical(class_no)\n",
    "    class_name = class_name.unique()\n",
    "    \n",
    "    return x,y,class_name,ori_dataframe"
   ]
  },
  {
   "cell_type": "code",
   "execution_count": 20,
   "metadata": {},
   "outputs": [],
   "source": [
    "train_file = os.getcwd()+\"\\\\train_data2.csv\"\n",
    "x_train,y_train,class_names,train_dataframe = load_data_from_csv(train_file)\n",
    "\n"
   ]
  },
  {
   "cell_type": "code",
   "execution_count": 19,
   "metadata": {},
   "outputs": [],
   "source": [
    "test_file = os.getcwd()+\"\\\\test_data2.csv\"\n",
    "x_test,y_test,_,test_dataframe= load_data_from_csv(test_file)"
   ]
  },
  {
   "cell_type": "code",
   "execution_count": 21,
   "metadata": {},
   "outputs": [],
   "source": [
    "test_file = os.getcwd()+\"\\\\valid_data2.csv\"\n",
    "x_val,y_val,_,val_dataframe= load_data_from_csv(test_file)"
   ]
  },
  {
   "cell_type": "code",
   "execution_count": 22,
   "metadata": {},
   "outputs": [],
   "source": [
    "\n",
    "def get_center_point(landmarks, left_point, right_point):\n",
    "    \"\"\"Calculates the center point of the two given landmarks.\"\"\"\n",
    "\n",
    "    left = tf.gather(landmarks, left_point, axis=1)\n",
    "    right = tf.gather(landmarks, right_point, axis=1)\n",
    "    #get landmarks[point]\n",
    "    center = (left+right)/2\n",
    "    return center\n",
    "  \n",
    "def get_pose_size(landmarks, torso_size_multiplier=2.5):\n",
    "  \"\"\"Calculates pose size.\n",
    "\n",
    "  It is the maximum of two values:\n",
    "    * Torso size multiplied by `torso_size_multiplier`\n",
    "    * Maximum distance from pose center to any pose landmark\n",
    "  \"\"\"\n",
    "  # Hips center\n",
    "  hips_center = get_center_point(landmarks, \n",
    "                                 11, #left hips is 11th data in csv\n",
    "                                 12  #right hips is 12th data in csv\n",
    "                                 )\n",
    "\n",
    "  # Shoulders center\n",
    "  shoulders_center = get_center_point(landmarks, \n",
    "                                      5, #left shoulders is 5th data in csv\n",
    "                                      6  #right shoulders is 6th data in csv\n",
    "                                      )\n",
    "\n",
    "  # we defined the torso size as the length of shouder to hip\n",
    "  torso_size = tf.linalg.norm(shoulders_center - hips_center)\n",
    "\n",
    "  # when we got the center point we expand the dimension of center point\n",
    "  pose_center_new = get_center_point(landmarks, \n",
    "                                     11, #left hips is 11th data in csv\n",
    "                                     12  #right hips is 12th data in csv\n",
    "                                     )\n",
    "  # when we got the center point we expand the dimension of center point \n",
    "  pose_center_new = tf.expand_dims(pose_center_new, axis=1)\n",
    "  \n",
    "  #and braodcast to the size of the landmarks\n",
    "  pose_center_new = tf.broadcast_to(pose_center_new,\n",
    "                                    [tf.size(landmarks) // (17*2), 17, 2])\n",
    "\n",
    "  # we get the 0-index of Dist to pose center\n",
    "  d = tf.gather(landmarks - pose_center_new, 0, axis=0,\n",
    "                name=\"dist_to_pose_center\")\n",
    "  \n",
    "  # Max dist to pose center\n",
    "  max_dist = tf.reduce_max(tf.linalg.norm(d, axis=0))\n",
    "\n",
    "  # Normalize scale\n",
    "  pose_size = tf.maximum(torso_size * torso_size_multiplier, max_dist)\n",
    "\n",
    "  return pose_size\n",
    "\n",
    "\n",
    "def normalize_pose_inputs(reshaped_inputs):\n",
    "  \"\"\"Normalizes the landmarks translation by moving the pose center to (0,0) and\n",
    "  scaling it to a constant pose size.\n",
    "  \"\"\"\n",
    "  # we only need the x,y coordinate so the input only x,y without score\n",
    "  landmarks = reshaped_inputs[:, :, :2]\n",
    "  \n",
    "  #we defined the center of posture is the middle of hip\n",
    "  pose_center = get_center_point(landmarks, \n",
    "                                 11, #left hips is 11th data in csv\n",
    "                                 12  #right hips is 12th data in csv\n",
    "                                 )\n",
    "  # when we got the center point we expand the dimension of center point \n",
    "  pose_center = tf.expand_dims(pose_center, axis=1)\n",
    "  #and braodcast to the size of the landmarks\n",
    "  pose_center = tf.broadcast_to(pose_center, \n",
    "                                [tf.size(landmarks) // (17*2), 17, 2])\n",
    "  #subtraction to get the relative coordinate\n",
    "  landmarks = landmarks - pose_center\n",
    "\n",
    "  # Scale the landmarks to a constant pose size\n",
    "  pose_size = get_pose_size(landmarks)\n",
    "  landmarks /= pose_size\n",
    "\n",
    "  return landmarks"
   ]
  },
  {
   "attachments": {},
   "cell_type": "markdown",
   "metadata": {},
   "source": [
    "## Define the nueral network model correresponding to the input data\n"
   ]
  },
  {
   "cell_type": "code",
   "execution_count": 23,
   "metadata": {},
   "outputs": [],
   "source": [
    "import models"
   ]
  },
  {
   "cell_type": "code",
   "execution_count": 24,
   "metadata": {},
   "outputs": [],
   "source": [
    "inputs = tf.keras.Input(shape= 51)\n",
    "reshaped_inputs = keras.layers.Reshape((17, 3))(inputs)\n",
    "# since the input data will have 17 critical point with (x,y,score) \n",
    "# so we initial the input as 51 entry, and reshapre it to (17,3)\n",
    "embedding = normalize_pose_inputs(reshaped_inputs)\n"
   ]
  },
  {
   "cell_type": "code",
   "execution_count": 27,
   "metadata": {},
   "outputs": [],
   "source": [
    "model = \"CNN\"\n",
    "model = \"DNN\"\n",
    "model = \"basic\""
   ]
  },
  {
   "cell_type": "code",
   "execution_count": 28,
   "metadata": {},
   "outputs": [],
   "source": [
    "\n",
    "if model == \"DNN\":\n",
    "    outputs = models.DNN(embedding,len(class_names))\n",
    "    checkpoint_path = \"DNN.best.hdf5\"\n",
    "if model == \"CNN\":\n",
    "    outputs = models.CNN(embedding,len(class_names))\n",
    "    checkpoint_path = \"CNN.best.hdf5\"\n",
    "if model == \"basic\":\n",
    "    outputs = models.basic(embedding,len(class_names))\n",
    "    checkpoint_path = \"basic.best.hdf5\""
   ]
  },
  {
   "cell_type": "code",
   "execution_count": 32,
   "metadata": {},
   "outputs": [
    {
     "name": "stdout",
     "output_type": "stream",
     "text": [
      "Model: \"model_2\"\n",
      "__________________________________________________________________________________________________\n",
      " Layer (type)                   Output Shape         Param #     Connected to                     \n",
      "==================================================================================================\n",
      " input_2 (InputLayer)           [(None, 51)]         0           []                               \n",
      "                                                                                                  \n",
      " reshape_1 (Reshape)            (None, 17, 3)        0           ['input_2[0][0]']                \n",
      "                                                                                                  \n",
      " tf.__operators__.getitem_1 (Sl  (None, 17, 2)       0           ['reshape_1[0][0]']              \n",
      " icingOpLambda)                                                                                   \n",
      "                                                                                                  \n",
      " tf.compat.v1.gather_9 (TFOpLam  (None, 2)           0           ['tf.__operators__.getitem_1[0][0\n",
      " bda)                                                            ]']                              \n",
      "                                                                                                  \n",
      " tf.compat.v1.gather_10 (TFOpLa  (None, 2)           0           ['tf.__operators__.getitem_1[0][0\n",
      " mbda)                                                           ]']                              \n",
      "                                                                                                  \n",
      " tf.__operators__.add_4 (TFOpLa  (None, 2)           0           ['tf.compat.v1.gather_9[0][0]',  \n",
      " mbda)                                                            'tf.compat.v1.gather_10[0][0]'] \n",
      "                                                                                                  \n",
      " tf.math.truediv_5 (TFOpLambda)  (None, 2)           0           ['tf.__operators__.add_4[0][0]'] \n",
      "                                                                                                  \n",
      " tf.compat.v1.size_2 (TFOpLambd  ()                  0           ['tf.__operators__.getitem_1[0][0\n",
      " a)                                                              ]']                              \n",
      "                                                                                                  \n",
      " tf.expand_dims_2 (TFOpLambda)  (None, 1, 2)         0           ['tf.math.truediv_5[0][0]']      \n",
      "                                                                                                  \n",
      " tf.compat.v1.floor_div_2 (TFOp  ()                  0           ['tf.compat.v1.size_2[0][0]']    \n",
      " Lambda)                                                                                          \n",
      "                                                                                                  \n",
      " tf.broadcast_to_2 (TFOpLambda)  (None, 17, 2)       0           ['tf.expand_dims_2[0][0]',       \n",
      "                                                                  'tf.compat.v1.floor_div_2[0][0]'\n",
      "                                                                 ]                                \n",
      "                                                                                                  \n",
      " tf.math.subtract_3 (TFOpLambda  (None, 17, 2)       0           ['tf.__operators__.getitem_1[0][0\n",
      " )                                                               ]',                              \n",
      "                                                                  'tf.broadcast_to_2[0][0]']      \n",
      "                                                                                                  \n",
      " tf.compat.v1.gather_15 (TFOpLa  (None, 2)           0           ['tf.math.subtract_3[0][0]']     \n",
      " mbda)                                                                                            \n",
      "                                                                                                  \n",
      " tf.compat.v1.gather_16 (TFOpLa  (None, 2)           0           ['tf.math.subtract_3[0][0]']     \n",
      " mbda)                                                                                            \n",
      "                                                                                                  \n",
      " tf.__operators__.add_7 (TFOpLa  (None, 2)           0           ['tf.compat.v1.gather_15[0][0]', \n",
      " mbda)                                                            'tf.compat.v1.gather_16[0][0]'] \n",
      "                                                                                                  \n",
      " tf.math.truediv_8 (TFOpLambda)  (None, 2)           0           ['tf.__operators__.add_7[0][0]'] \n",
      "                                                                                                  \n",
      " tf.compat.v1.size_3 (TFOpLambd  ()                  0           ['tf.math.subtract_3[0][0]']     \n",
      " a)                                                                                               \n",
      "                                                                                                  \n",
      " tf.compat.v1.gather_13 (TFOpLa  (None, 2)           0           ['tf.math.subtract_3[0][0]']     \n",
      " mbda)                                                                                            \n",
      "                                                                                                  \n",
      " tf.compat.v1.gather_14 (TFOpLa  (None, 2)           0           ['tf.math.subtract_3[0][0]']     \n",
      " mbda)                                                                                            \n",
      "                                                                                                  \n",
      " tf.compat.v1.gather_11 (TFOpLa  (None, 2)           0           ['tf.math.subtract_3[0][0]']     \n",
      " mbda)                                                                                            \n",
      "                                                                                                  \n",
      " tf.compat.v1.gather_12 (TFOpLa  (None, 2)           0           ['tf.math.subtract_3[0][0]']     \n",
      " mbda)                                                                                            \n",
      "                                                                                                  \n",
      " tf.expand_dims_3 (TFOpLambda)  (None, 1, 2)         0           ['tf.math.truediv_8[0][0]']      \n",
      "                                                                                                  \n",
      " tf.compat.v1.floor_div_3 (TFOp  ()                  0           ['tf.compat.v1.size_3[0][0]']    \n",
      " Lambda)                                                                                          \n",
      "                                                                                                  \n",
      " tf.__operators__.add_6 (TFOpLa  (None, 2)           0           ['tf.compat.v1.gather_13[0][0]', \n",
      " mbda)                                                            'tf.compat.v1.gather_14[0][0]'] \n",
      "                                                                                                  \n",
      " tf.__operators__.add_5 (TFOpLa  (None, 2)           0           ['tf.compat.v1.gather_11[0][0]', \n",
      " mbda)                                                            'tf.compat.v1.gather_12[0][0]'] \n",
      "                                                                                                  \n",
      " tf.broadcast_to_3 (TFOpLambda)  (None, 17, 2)       0           ['tf.expand_dims_3[0][0]',       \n",
      "                                                                  'tf.compat.v1.floor_div_3[0][0]'\n",
      "                                                                 ]                                \n",
      "                                                                                                  \n",
      " tf.math.truediv_7 (TFOpLambda)  (None, 2)           0           ['tf.__operators__.add_6[0][0]'] \n",
      "                                                                                                  \n",
      " tf.math.truediv_6 (TFOpLambda)  (None, 2)           0           ['tf.__operators__.add_5[0][0]'] \n",
      "                                                                                                  \n",
      " tf.math.subtract_5 (TFOpLambda  (None, 17, 2)       0           ['tf.math.subtract_3[0][0]',     \n",
      " )                                                                'tf.broadcast_to_3[0][0]']      \n",
      "                                                                                                  \n",
      " tf.math.subtract_4 (TFOpLambda  (None, 2)           0           ['tf.math.truediv_7[0][0]',      \n",
      " )                                                                'tf.math.truediv_6[0][0]']      \n",
      "                                                                                                  \n",
      " tf.compat.v1.gather_17 (TFOpLa  (17, 2)             0           ['tf.math.subtract_5[0][0]']     \n",
      " mbda)                                                                                            \n",
      "                                                                                                  \n",
      " tf.compat.v1.norm_2 (TFOpLambd  ()                  0           ['tf.math.subtract_4[0][0]']     \n",
      " a)                                                                                               \n",
      "                                                                                                  \n",
      " tf.compat.v1.norm_3 (TFOpLambd  (2,)                0           ['tf.compat.v1.gather_17[0][0]'] \n",
      " a)                                                                                               \n",
      "                                                                                                  \n",
      " tf.math.multiply_1 (TFOpLambda  ()                  0           ['tf.compat.v1.norm_2[0][0]']    \n",
      " )                                                                                                \n",
      "                                                                                                  \n",
      " tf.math.reduce_max_1 (TFOpLamb  ()                  0           ['tf.compat.v1.norm_3[0][0]']    \n",
      " da)                                                                                              \n",
      "                                                                                                  \n",
      " tf.math.maximum_1 (TFOpLambda)  ()                  0           ['tf.math.multiply_1[0][0]',     \n",
      "                                                                  'tf.math.reduce_max_1[0][0]']   \n",
      "                                                                                                  \n",
      " tf.math.truediv_9 (TFOpLambda)  (None, 17, 2)       0           ['tf.math.subtract_3[0][0]',     \n",
      "                                                                  'tf.math.maximum_1[0][0]']      \n",
      "                                                                                                  \n",
      " flatten_1 (Flatten)            (None, 34)           0           ['tf.math.truediv_9[0][0]']      \n",
      "                                                                                                  \n",
      " dense_4 (Dense)                (None, 32)           1120        ['flatten_1[0][0]']              \n",
      "                                                                                                  \n",
      " dense_5 (Dense)                (None, 5)            165         ['dense_4[0][0]']                \n",
      "                                                                                                  \n",
      "==================================================================================================\n",
      "Total params: 1,285\n",
      "Trainable params: 1,285\n",
      "Non-trainable params: 0\n",
      "__________________________________________________________________________________________________\n"
     ]
    }
   ],
   "source": [
    "model = keras.Model(inputs, outputs)\n",
    "model.summary()"
   ]
  },
  {
   "cell_type": "code",
   "execution_count": 33,
   "metadata": {},
   "outputs": [
    {
     "name": "stdout",
     "output_type": "stream",
     "text": [
      "Epoch 1/200\n",
      " 1/13 [=>............................] - ETA: 10s - loss: 1.6279 - accuracy: 0.1250"
     ]
    },
    {
     "ename": "ValueError",
     "evalue": "in user code:\n\n    File \"c:\\Users\\User\\anaconda3\\envs\\LA_lab\\lib\\site-packages\\keras\\engine\\training.py\", line 1727, in test_function  *\n        return step_function(self, iterator)\n    File \"c:\\Users\\User\\anaconda3\\envs\\LA_lab\\lib\\site-packages\\keras\\engine\\training.py\", line 1713, in step_function  **\n        outputs = model.distribute_strategy.run(run_step, args=(data,))\n    File \"c:\\Users\\User\\anaconda3\\envs\\LA_lab\\lib\\site-packages\\keras\\engine\\training.py\", line 1701, in run_step  **\n        outputs = model.test_step(data)\n    File \"c:\\Users\\User\\anaconda3\\envs\\LA_lab\\lib\\site-packages\\keras\\engine\\training.py\", line 1667, in test_step\n        self.compute_loss(x, y, y_pred, sample_weight)\n    File \"c:\\Users\\User\\anaconda3\\envs\\LA_lab\\lib\\site-packages\\keras\\engine\\training.py\", line 1052, in compute_loss\n        return self.compiled_loss(\n    File \"c:\\Users\\User\\anaconda3\\envs\\LA_lab\\lib\\site-packages\\keras\\engine\\compile_utils.py\", line 265, in __call__\n        loss_value = loss_obj(y_t, y_p, sample_weight=sw)\n    File \"c:\\Users\\User\\anaconda3\\envs\\LA_lab\\lib\\site-packages\\keras\\losses.py\", line 152, in __call__\n        losses = call_fn(y_true, y_pred)\n    File \"c:\\Users\\User\\anaconda3\\envs\\LA_lab\\lib\\site-packages\\keras\\losses.py\", line 272, in call  **\n        return ag_fn(y_true, y_pred, **self._fn_kwargs)\n    File \"c:\\Users\\User\\anaconda3\\envs\\LA_lab\\lib\\site-packages\\keras\\losses.py\", line 1990, in categorical_crossentropy\n        return backend.categorical_crossentropy(\n    File \"c:\\Users\\User\\anaconda3\\envs\\LA_lab\\lib\\site-packages\\keras\\backend.py\", line 5529, in categorical_crossentropy\n        target.shape.assert_is_compatible_with(output.shape)\n\n    ValueError: Shapes (None, 4) and (None, 5) are incompatible\n",
     "output_type": "error",
     "traceback": [
      "\u001b[1;31m---------------------------------------------------------------------------\u001b[0m",
      "\u001b[1;31mValueError\u001b[0m                                Traceback (most recent call last)",
      "Cell \u001b[1;32mIn[33], line 17\u001b[0m\n\u001b[0;32m     13\u001b[0m earlystopping \u001b[39m=\u001b[39m keras\u001b[39m.\u001b[39mcallbacks\u001b[39m.\u001b[39mEarlyStopping(monitor\u001b[39m=\u001b[39m\u001b[39m'\u001b[39m\u001b[39mval_accuracy\u001b[39m\u001b[39m'\u001b[39m, \n\u001b[0;32m     14\u001b[0m                                               patience\u001b[39m=\u001b[39m\u001b[39m20\u001b[39m)\n\u001b[0;32m     16\u001b[0m \u001b[39m# Start training\u001b[39;00m\n\u001b[1;32m---> 17\u001b[0m history \u001b[39m=\u001b[39m model\u001b[39m.\u001b[39;49mfit(x_train, y_train,\n\u001b[0;32m     18\u001b[0m                     epochs\u001b[39m=\u001b[39;49m\u001b[39m200\u001b[39;49m,\n\u001b[0;32m     19\u001b[0m                     batch_size\u001b[39m=\u001b[39;49m\u001b[39m16\u001b[39;49m,\n\u001b[0;32m     20\u001b[0m                     validation_data\u001b[39m=\u001b[39;49m(x_test, y_test),\n\u001b[0;32m     21\u001b[0m                     callbacks\u001b[39m=\u001b[39;49m[checkpoint, earlystopping])\n",
      "File \u001b[1;32mc:\\Users\\User\\anaconda3\\envs\\LA_lab\\lib\\site-packages\\keras\\utils\\traceback_utils.py:70\u001b[0m, in \u001b[0;36mfilter_traceback.<locals>.error_handler\u001b[1;34m(*args, **kwargs)\u001b[0m\n\u001b[0;32m     67\u001b[0m     filtered_tb \u001b[39m=\u001b[39m _process_traceback_frames(e\u001b[39m.\u001b[39m__traceback__)\n\u001b[0;32m     68\u001b[0m     \u001b[39m# To get the full stack trace, call:\u001b[39;00m\n\u001b[0;32m     69\u001b[0m     \u001b[39m# `tf.debugging.disable_traceback_filtering()`\u001b[39;00m\n\u001b[1;32m---> 70\u001b[0m     \u001b[39mraise\u001b[39;00m e\u001b[39m.\u001b[39mwith_traceback(filtered_tb) \u001b[39mfrom\u001b[39;00m \u001b[39mNone\u001b[39;00m\n\u001b[0;32m     71\u001b[0m \u001b[39mfinally\u001b[39;00m:\n\u001b[0;32m     72\u001b[0m     \u001b[39mdel\u001b[39;00m filtered_tb\n",
      "File \u001b[1;32m~\\AppData\\Local\\Temp\\__autograph_generated_filepiqd3csi.py:15\u001b[0m, in \u001b[0;36mouter_factory.<locals>.inner_factory.<locals>.tf__test_function\u001b[1;34m(iterator)\u001b[0m\n\u001b[0;32m     13\u001b[0m \u001b[39mtry\u001b[39;00m:\n\u001b[0;32m     14\u001b[0m     do_return \u001b[39m=\u001b[39m \u001b[39mTrue\u001b[39;00m\n\u001b[1;32m---> 15\u001b[0m     retval_ \u001b[39m=\u001b[39m ag__\u001b[39m.\u001b[39mconverted_call(ag__\u001b[39m.\u001b[39mld(step_function), (ag__\u001b[39m.\u001b[39mld(\u001b[39mself\u001b[39m), ag__\u001b[39m.\u001b[39mld(iterator)), \u001b[39mNone\u001b[39;00m, fscope)\n\u001b[0;32m     16\u001b[0m \u001b[39mexcept\u001b[39;00m:\n\u001b[0;32m     17\u001b[0m     do_return \u001b[39m=\u001b[39m \u001b[39mFalse\u001b[39;00m\n",
      "\u001b[1;31mValueError\u001b[0m: in user code:\n\n    File \"c:\\Users\\User\\anaconda3\\envs\\LA_lab\\lib\\site-packages\\keras\\engine\\training.py\", line 1727, in test_function  *\n        return step_function(self, iterator)\n    File \"c:\\Users\\User\\anaconda3\\envs\\LA_lab\\lib\\site-packages\\keras\\engine\\training.py\", line 1713, in step_function  **\n        outputs = model.distribute_strategy.run(run_step, args=(data,))\n    File \"c:\\Users\\User\\anaconda3\\envs\\LA_lab\\lib\\site-packages\\keras\\engine\\training.py\", line 1701, in run_step  **\n        outputs = model.test_step(data)\n    File \"c:\\Users\\User\\anaconda3\\envs\\LA_lab\\lib\\site-packages\\keras\\engine\\training.py\", line 1667, in test_step\n        self.compute_loss(x, y, y_pred, sample_weight)\n    File \"c:\\Users\\User\\anaconda3\\envs\\LA_lab\\lib\\site-packages\\keras\\engine\\training.py\", line 1052, in compute_loss\n        return self.compiled_loss(\n    File \"c:\\Users\\User\\anaconda3\\envs\\LA_lab\\lib\\site-packages\\keras\\engine\\compile_utils.py\", line 265, in __call__\n        loss_value = loss_obj(y_t, y_p, sample_weight=sw)\n    File \"c:\\Users\\User\\anaconda3\\envs\\LA_lab\\lib\\site-packages\\keras\\losses.py\", line 152, in __call__\n        losses = call_fn(y_true, y_pred)\n    File \"c:\\Users\\User\\anaconda3\\envs\\LA_lab\\lib\\site-packages\\keras\\losses.py\", line 272, in call  **\n        return ag_fn(y_true, y_pred, **self._fn_kwargs)\n    File \"c:\\Users\\User\\anaconda3\\envs\\LA_lab\\lib\\site-packages\\keras\\losses.py\", line 1990, in categorical_crossentropy\n        return backend.categorical_crossentropy(\n    File \"c:\\Users\\User\\anaconda3\\envs\\LA_lab\\lib\\site-packages\\keras\\backend.py\", line 5529, in categorical_crossentropy\n        target.shape.assert_is_compatible_with(output.shape)\n\n    ValueError: Shapes (None, 4) and (None, 5) are incompatible\n"
     ]
    }
   ],
   "source": [
    "model.compile(\n",
    "    optimizer='adam',\n",
    "    loss='categorical_crossentropy',\n",
    "    metrics=['accuracy']\n",
    ")\n",
    "\n",
    "# validation accuracy.\n",
    "checkpoint = keras.callbacks.ModelCheckpoint(checkpoint_path,\n",
    "                             monitor='val_accuracy',\n",
    "                             verbose=1,\n",
    "                             save_best_only=True,\n",
    "                             mode='max')\n",
    "earlystopping = keras.callbacks.EarlyStopping(monitor='val_accuracy', \n",
    "                                              patience=20)\n",
    "\n",
    "# Start training\n",
    "history = model.fit(x_train, y_train,\n",
    "                    epochs=200,\n",
    "                    batch_size=16,\n",
    "                    validation_data=(x_test, y_test),\n",
    "                    callbacks=[checkpoint, earlystopping])"
   ]
  },
  {
   "cell_type": "code",
   "execution_count": 13,
   "metadata": {},
   "outputs": [
    {
     "data": {
      "image/png": "[encoded data removed]",
      "text/plain": [
       "<Figure size 640x480 with 1 Axes>"
      ]
     },
     "metadata": {},
     "output_type": "display_data"
    }
   ],
   "source": [
    "from matplotlib import pyplot as plt\n",
    "# Visualize the training history to see whether you're overfitting.\n",
    "plt.plot(history.history['accuracy'])\n",
    "plt.plot(history.history['val_accuracy'])\n",
    "plt.title('Model accuracy')\n",
    "plt.ylabel('accuracy')\n",
    "plt.xlabel('epoch')\n",
    "plt.legend(['TRAIN', 'VAL'], loc='lower right')\n",
    "plt.show()"
   ]
  },
  {
   "cell_type": "code",
   "execution_count": 14,
   "metadata": {},
   "outputs": [],
   "source": [
    "import numpy as np\n",
    "from sklearn.metrics import accuracy_score, classification_report, confusion_matrix\n",
    "import itertools"
   ]
  },
  {
   "cell_type": "code",
   "execution_count": 15,
   "metadata": {},
   "outputs": [
    {
     "name": "stdout",
     "output_type": "stream",
     "text": [
      "16/16 [==============================] - 0s 3ms/step\n",
      "Confusion matrix, without normalization\n",
      "\n",
      "Classification Report:\n",
      "               precision    recall  f1-score   support\n",
      "\n",
      "       chair       0.98      1.00      0.99        84\n",
      "       cobra       1.00      0.97      0.98       116\n",
      "         dog       1.00      0.90      0.95        90\n",
      "        tree       1.00      1.00      1.00        96\n",
      "     warrior       0.89      0.98      0.93       109\n",
      "\n",
      "    accuracy                           0.97       495\n",
      "   macro avg       0.97      0.97      0.97       495\n",
      "weighted avg       0.97      0.97      0.97       495\n",
      "\n"
     ]
    },
    {
     "data": {
      "image/png": "[encoded data removed]",
      "text/plain": [
       "<Figure size 640x480 with 2 Axes>"
      ]
     },
     "metadata": {},
     "output_type": "display_data"
    }
   ],
   "source": [
    "def plot_confusion_matrix(cm, classes,\n",
    "                          normalize=False,\n",
    "                          title='Confusion matrix',\n",
    "                          cmap=plt.cm.Blues):\n",
    "  \"\"\"Plots the confusion matrix.\"\"\"\n",
    "  if normalize:\n",
    "    cm = cm.astype('float') / cm.sum(axis=1)[:, np.newaxis]\n",
    "    print(\"Normalized confusion matrix\")\n",
    "  else:\n",
    "    print('Confusion matrix, without normalization')\n",
    "\n",
    "  plt.imshow(cm, interpolation='nearest', cmap=cmap)\n",
    "  plt.title(title)\n",
    "  plt.colorbar()\n",
    "  tick_marks = np.arange(len(classes))\n",
    "  plt.xticks(tick_marks, classes, rotation=55)\n",
    "  plt.yticks(tick_marks, classes)\n",
    "  fmt = '.2f' if normalize else 'd'\n",
    "  thresh = cm.max() / 2.\n",
    "  for i, j in itertools.product(range(cm.shape[0]), range(cm.shape[1])):\n",
    "    plt.text(j, i, format(cm[i, j], fmt),\n",
    "              horizontalalignment=\"center\",\n",
    "              color=\"white\" if cm[i, j] > thresh else \"black\")\n",
    "\n",
    "  plt.ylabel('True label')\n",
    "  plt.xlabel('Predicted label')\n",
    "  plt.tight_layout()\n",
    "\n",
    "# Classify pose in the TEST dataset using the trained model\n",
    "y_pred = model.predict(x_test)\n",
    "\n",
    "# Convert the prediction result to class name\n",
    "y_pred_label = [class_names[i] for i in np.argmax(y_pred, axis=1)]\n",
    "y_true_label = [class_names[i] for i in np.argmax(y_test, axis=1)]\n",
    "\n",
    "# Plot the confusion matrix\n",
    "cm = confusion_matrix(np.argmax(y_test, axis=1), np.argmax(y_pred, axis=1))\n",
    "plot_confusion_matrix(cm,\n",
    "                      class_names,\n",
    "                      title ='Confusion Matrix of Pose Classification Model')\n",
    "\n",
    "# Print the classification report\n",
    "print('\\nClassification Report:\\n', classification_report(y_true_label,\n",
    "                                                          y_pred_label))"
   ]
  },
  {
   "cell_type": "code",
   "execution_count": 83,
   "metadata": {},
   "outputs": [
    {
     "name": "stdout",
     "output_type": "stream",
     "text": [
      "[[9.9594200e-01 4.2967979e-05 7.8103221e-05 3.8788696e-03 5.8032863e-05]\n",
      " [9.9524307e-01 4.6340603e-05 9.4289193e-05 4.5375610e-03 7.8634905e-05]\n",
      " [9.9663961e-01 4.2406366e-05 7.7069650e-05 3.1737920e-03 6.7123277e-05]\n",
      " ...\n",
      " [4.2849139e-04 1.2114080e-04 3.6137673e-04 1.0174728e-04 9.9898726e-01]\n",
      " [8.6501113e-04 1.9029628e-04 6.3777476e-04 1.9673804e-04 9.9811018e-01]\n",
      " [1.1621475e-03 1.8951728e-04 7.1399647e-04 2.4798908e-04 9.9768639e-01]]\n"
     ]
    }
   ],
   "source": [
    "print(y_pred)"
   ]
  }
 ],
 "metadata": {
  "kernelspec": {
   "display_name": "LA_lab",
   "language": "python",
   "name": "python3"
  },
  "language_info": {
   "codemirror_mode": {
    "name": "ipython",
    "version": 3
   },
   "file_extension": ".py",
   "mimetype": "text/x-python",
   "name": "python",
   "nbconvert_exporter": "python",
   "pygments_lexer": "ipython3",
   "version": "3.10.11"
  },
  "orig_nbformat": 4
 },
 "nbformat": 4,
 "nbformat_minor": 2
}
