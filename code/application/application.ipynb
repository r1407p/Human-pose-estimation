{
 "cells": [
  {
   "cell_type": "code",
   "execution_count": 1,
   "metadata": {},
   "outputs": [],
   "source": [
    "import cv2"
   ]
  },
  {
   "cell_type": "code",
   "execution_count": 6,
   "metadata": {},
   "outputs": [
    {
     "name": "stdout",
     "output_type": "stream",
     "text": [
      "<movenet.Movenet object at 0x00000271ED937790>\n"
     ]
    }
   ],
   "source": [
    "import utils\n",
    "from data import BodyPart\n",
    "from movenet import Movenet\n",
    "movenet = Movenet('movenet_thunder')\n",
    "print(movenet)\n",
    "def detect(input_tensor, inference_count=3):\n",
    "  \"\"\"Runs detection on an input image.\n",
    " \n",
    "  Args:\n",
    "    input_tensor: A [height, width, 3] Tensor of type tf.float32.\n",
    "      Note that height and width can be anything since the image will be\n",
    "      immediately resized according to the needs of the model within this\n",
    "      function.\n",
    "    inference_count: Number of times the model should run repeatly on the\n",
    "      same input image to improve detection accuracy.\n",
    " \n",
    "  Returns:\n",
    "    A Person entity detected by the MoveNet.SinglePose.\n",
    "  \"\"\"\n",
    "  image_height, image_width, channel = input_tensor.shape\n",
    " \n",
    "  # Detect pose using the full input image\n",
    "  movenet.detect(input_tensor.numpy(), reset_crop_region=True)\n",
    " \n",
    "  # Repeatedly using previous detection result to identify the region of\n",
    "  # interest and only croping that region to improve detection accuracy\n",
    "  for _ in range(inference_count - 1):\n",
    "    person = movenet.detect(input_tensor.numpy(), \n",
    "                            reset_crop_region=False)\n",
    "    person.\n",
    "  return person"
   ]
  },
  {
   "cell_type": "code",
   "execution_count": 7,
   "metadata": {},
   "outputs": [],
   "source": [
    "import tensorflow as tf"
   ]
  },
  {
   "cell_type": "code",
   "execution_count": 12,
   "metadata": {},
   "outputs": [
    {
     "name": "stdout",
     "output_type": "stream",
     "text": [
      "[KeyPoint(body_part=<BodyPart.NOSE: 0>, coordinate=Point(x=1692, y=1459), score=0.34558517), KeyPoint(body_part=<BodyPart.LEFT_EYE: 1>, coordinate=Point(x=1644, y=1443), score=0.42027456), KeyPoint(body_part=<BodyPart.RIGHT_EYE: 2>, coordinate=Point(x=1617, y=1461), score=0.49976), KeyPoint(body_part=<BodyPart.LEFT_EAR: 3>, coordinate=Point(x=1563, y=1567), score=0.33248568), KeyPoint(body_part=<BodyPart.RIGHT_EAR: 4>, coordinate=Point(x=1511, y=1613), score=0.47603545), KeyPoint(body_part=<BodyPart.LEFT_SHOULDER: 5>, coordinate=Point(x=1771, y=1717), score=0.32773256), KeyPoint(body_part=<BodyPart.RIGHT_SHOULDER: 6>, coordinate=Point(x=1699, y=1850), score=0.4497451), KeyPoint(body_part=<BodyPart.LEFT_ELBOW: 7>, coordinate=Point(x=2350, y=1809), score=0.2853001), KeyPoint(body_part=<BodyPart.RIGHT_ELBOW: 8>, coordinate=Point(x=2401, y=1840), score=0.43106255), KeyPoint(body_part=<BodyPart.LEFT_WRIST: 9>, coordinate=Point(x=2223, y=1392), score=0.24903926), KeyPoint(body_part=<BodyPart.RIGHT_WRIST: 10>, coordinate=Point(x=2240, y=1381), score=0.25913748), KeyPoint(body_part=<BodyPart.LEFT_HIP: 11>, coordinate=Point(x=2506, y=1679), score=0.14018111), KeyPoint(body_part=<BodyPart.RIGHT_HIP: 12>, coordinate=Point(x=2634, y=1761), score=0.09361984), KeyPoint(body_part=<BodyPart.LEFT_KNEE: 13>, coordinate=Point(x=1920, y=1060), score=0.4515997), KeyPoint(body_part=<BodyPart.RIGHT_KNEE: 14>, coordinate=Point(x=2410, y=1243), score=0.14121488), KeyPoint(body_part=<BodyPart.LEFT_ANKLE: 15>, coordinate=Point(x=2317, y=1324), score=0.16573709), KeyPoint(body_part=<BodyPart.RIGHT_ANKLE: 16>, coordinate=Point(x=2304, y=1323), score=0.20021705)]\n",
      "[KeyPoint(body_part=<BodyPart.NOSE: 0>, coordinate=Point(x=1692, y=1459), score=0.34558517), KeyPoint(body_part=<BodyPart.LEFT_EYE: 1>, coordinate=Point(x=1644, y=1443), score=0.42027456), KeyPoint(body_part=<BodyPart.RIGHT_EYE: 2>, coordinate=Point(x=1617, y=1461), score=0.49976), KeyPoint(body_part=<BodyPart.LEFT_EAR: 3>, coordinate=Point(x=1563, y=1567), score=0.33248568), KeyPoint(body_part=<BodyPart.RIGHT_EAR: 4>, coordinate=Point(x=1511, y=1613), score=0.47603545), KeyPoint(body_part=<BodyPart.LEFT_SHOULDER: 5>, coordinate=Point(x=1771, y=1717), score=0.32773256), KeyPoint(body_part=<BodyPart.RIGHT_SHOULDER: 6>, coordinate=Point(x=1699, y=1850), score=0.4497451), KeyPoint(body_part=<BodyPart.LEFT_ELBOW: 7>, coordinate=Point(x=2350, y=1809), score=0.2853001), KeyPoint(body_part=<BodyPart.RIGHT_ELBOW: 8>, coordinate=Point(x=2401, y=1840), score=0.43106255), KeyPoint(body_part=<BodyPart.LEFT_WRIST: 9>, coordinate=Point(x=2223, y=1392), score=0.24903926), KeyPoint(body_part=<BodyPart.RIGHT_WRIST: 10>, coordinate=Point(x=2240, y=1381), score=0.25913748), KeyPoint(body_part=<BodyPart.LEFT_HIP: 11>, coordinate=Point(x=2506, y=1679), score=0.14018111), KeyPoint(body_part=<BodyPart.RIGHT_HIP: 12>, coordinate=Point(x=2634, y=1761), score=0.09361984), KeyPoint(body_part=<BodyPart.LEFT_KNEE: 13>, coordinate=Point(x=1920, y=1060), score=0.4515997), KeyPoint(body_part=<BodyPart.RIGHT_KNEE: 14>, coordinate=Point(x=2410, y=1243), score=0.14121488), KeyPoint(body_part=<BodyPart.LEFT_ANKLE: 15>, coordinate=Point(x=2317, y=1324), score=0.16573709), KeyPoint(body_part=<BodyPart.RIGHT_ANKLE: 16>, coordinate=Point(x=2304, y=1323), score=0.20021705)]\n",
      "Rectangle(start_point=Point(x=1511, y=1060), end_point=Point(x=2634, y=1850))\n",
      "0.32344425\n",
      "None\n"
     ]
    }
   ],
   "source": [
    "image_bad = tf.io.read_file(r'C:\\Users\\User\\Desktop\\test\\pose-monitor\\main\\pose_data\\train\\forwardhead\\20230526_170539.jpg')\n",
    "image_bad = tf.io.decode_jpeg(image_bad)\n",
    "person = detect(image_bad)\n",
    "print(person.keypoints)\n",
    "print(person.bounding_box)\n",
    "for i in person:\n",
    "    print(i)"
   ]
  }
 ],
 "metadata": {
  "kernelspec": {
   "display_name": "LA_lab",
   "language": "python",
   "name": "python3"
  },
  "language_info": {
   "codemirror_mode": {
    "name": "ipython",
    "version": 3
   },
   "file_extension": ".py",
   "mimetype": "text/x-python",
   "name": "python",
   "nbconvert_exporter": "python",
   "pygments_lexer": "ipython3",
   "version": "3.10.11"
  },
  "orig_nbformat": 4
 },
 "nbformat": 4,
 "nbformat_minor": 2
}
