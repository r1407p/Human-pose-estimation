{
 "cells": [
  {
   "cell_type": "code",
   "execution_count": 35,
   "metadata": {},
   "outputs": [],
   "source": [
    "import pandas as pd\n",
    "import keras\n",
    "import os\n",
    "import tensorflow as tf"
   ]
  },
  {
   "cell_type": "code",
   "execution_count": 31,
   "metadata": {},
   "outputs": [],
   "source": [
    "def load_data_from_csv(csv_path: str):\n",
    "    ori_dataframe = pd.read_csv(csv_path)\n",
    "    dataframe = ori_dataframe.copy()\n",
    "    \n",
    "    \n",
    "    class_no = dataframe[\"class_no\"] # get the labeled data of each posture data (1 dimension of int)\n",
    "    class_name = dataframe[\"class_name\"]# get the labeled data of each posture data (1 dimension of string)\n",
    "    dataframe.drop(columns=['file_name',\"class_no\",\"class_name\"], inplace=True) # drop the useles data for training\n",
    "    \n",
    "    \n",
    "    x = dataframe\n",
    "    y = keras.utils.to_categorical(class_no)\n",
    "    class_name = class_name.unique()\n",
    "    \n",
    "    return x,y,class_name,ori_dataframe"
   ]
  },
  {
   "cell_type": "code",
   "execution_count": 38,
   "metadata": {},
   "outputs": [],
   "source": [
    "x_train,y_train,class_names,_ = load_data_from_csv(r\"C:\\Users\\User\\Desktop\\sophomore_2nd_semester\\Artificial Intelligence\\final_project\\Human-pose-estimation\\code\\train_model\\test_data.csv\")\n"
   ]
  },
  {
   "cell_type": "code",
   "execution_count": 34,
   "metadata": {},
   "outputs": [],
   "source": [
    "x_test,y_test,_,test_dataframe= load_data_from_csv(r\"C:\\Users\\User\\Desktop\\sophomore_2nd_semester\\Artificial Intelligence\\final_project\\Human-pose-estimation\\code\\train_model\\test_data.csv\")"
   ]
  },
  {
   "cell_type": "code",
   "execution_count": 40,
   "metadata": {},
   "outputs": [],
   "source": [
    "from data import BodyPart\n",
    "import movenet"
   ]
  },
  {
   "cell_type": "code",
   "execution_count": null,
   "metadata": {},
   "outputs": [],
   "source": [
    "\n",
    "def get_center_point(landmarks, left_bodypart, right_bodypart):\n",
    "    \"\"\"Calculates the center point of the two given landmarks.\"\"\"\n",
    "\n",
    "    left = tf.gather(landmarks, left_bodypart.value, axis=1)\n",
    "    right = tf.gather(landmarks, right_bodypart.value, axis=1)\n",
    "    center = (left+right)/2\n",
    "    return center\n"
   ]
  },
  {
   "cell_type": "code",
   "execution_count": 39,
   "metadata": {},
   "outputs": [
    {
     "ename": "ModuleNotFoundError",
     "evalue": "No module named 'data'",
     "output_type": "error",
     "traceback": [
      "\u001b[1;31m---------------------------------------------------------------------------\u001b[0m",
      "\u001b[1;31mModuleNotFoundError\u001b[0m                       Traceback (most recent call last)",
      "Cell \u001b[1;32mIn[39], line 1\u001b[0m\n\u001b[1;32m----> 1\u001b[0m \u001b[39mfrom\u001b[39;00m \u001b[39mdata\u001b[39;00m \u001b[39mimport\u001b[39;00m BodyPart\n\u001b[0;32m      2\u001b[0m \u001b[39mfrom\u001b[39;00m \u001b[39mml\u001b[39;00m \u001b[39mimport\u001b[39;00m Movenet\n",
      "\u001b[1;31mModuleNotFoundError\u001b[0m: No module named 'data'"
     ]
    }
   ],
   "source": []
  },
  {
   "cell_type": "code",
   "execution_count": null,
   "metadata": {},
   "outputs": [],
   "source": []
  }
 ],
 "metadata": {
  "kernelspec": {
   "display_name": "LA_lab",
   "language": "python",
   "name": "python3"
  },
  "language_info": {
   "codemirror_mode": {
    "name": "ipython",
    "version": 3
   },
   "file_extension": ".py",
   "mimetype": "text/x-python",
   "name": "python",
   "nbconvert_exporter": "python",
   "pygments_lexer": "ipython3",
   "version": "3.10.11"
  },
  "orig_nbformat": 4
 },
 "nbformat": 4,
 "nbformat_minor": 2
}
